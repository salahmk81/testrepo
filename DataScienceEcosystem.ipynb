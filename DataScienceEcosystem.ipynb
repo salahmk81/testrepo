{
 "cells": [
  {
   "cell_type": "markdown",
   "id": "7948afb9-095e-4fe0-a173-85e71c8dc603",
   "metadata": {},
   "source": [
    "# Data Science Tools and Ecosystem"
   ]
  },
  {
   "cell_type": "markdown",
   "id": "0abc202e-bfe6-46a1-ad45-94aea1a2019b",
   "metadata": {},
   "source": [
    "In this notebook, Data Science Tools and Ecosystem are summarized."
   ]
  },
  {
   "cell_type": "markdown",
   "id": "63342e0a-c938-48e2-b6ff-8810ce986063",
   "metadata": {},
   "source": [
    "**Objectives:**\n",
    "- List popular languages for Data Science\n",
    "- Introducing arithmetic expression examples\n",
    "- Convert minutes to hours\n",
    "- List the commonly used libraries used by Data Scientists"
   ]
  },
  {
   "cell_type": "markdown",
   "id": "37dedbb9-39ef-4da7-8c86-8fa5ec4de7a3",
   "metadata": {},
   "source": [
    "Some of the popular languages that Data Scientists use are:\n",
    "1. Python\n",
    "2. SQL\n",
    "3. Java\n",
    "4. Julia\n",
    "5. Scala"
   ]
  },
  {
   "cell_type": "markdown",
   "id": "547f0bd0-a9ad-447d-814b-b9c3fd368dc0",
   "metadata": {},
   "source": [
    "Some of the commonly used libraries used by Data Scientists include:\n",
    "1. Numpy\n",
    "2. Pandas\n",
    "3. Seaborn\n",
    "4. Matplotlib\n",
    "5. Scikit"
   ]
  },
  {
   "cell_type": "markdown",
   "id": "eca7990d-84aa-445e-a237-b349169b5300",
   "metadata": {},
   "source": [
    "| Data Science Tools |\n",
    "|-----------------|\n",
    "|Apache Spark|\n",
    "|Hadoop|\n",
    "|Jupyter|"
   ]
  },
  {
   "cell_type": "markdown",
   "id": "681e7254-968f-4739-b2fb-357b68f2a60e",
   "metadata": {},
   "source": [
    "### Below are a few examples of evaluating arithmetic expressions in Python"
   ]
  },
  {
   "cell_type": "code",
   "execution_count": 1,
   "id": "8e98c2fb-9f97-4941-a8e4-a095c346d24f",
   "metadata": {},
   "outputs": [
    {
     "data": {
      "text/plain": [
       "17"
      ]
     },
     "execution_count": 1,
     "metadata": {},
     "output_type": "execute_result"
    }
   ],
   "source": [
    "#This a simple arithmetic expression to mutiply then add integers\n",
    "(3*4)+5"
   ]
  },
  {
   "cell_type": "code",
   "execution_count": 4,
   "id": "7264dd12-1f79-41ce-8d09-78ffad2ac066",
   "metadata": {},
   "outputs": [
    {
     "name": "stdout",
     "output_type": "stream",
     "text": [
      "3.3333333333333335 hours\n"
     ]
    }
   ],
   "source": [
    "#This will convert 200 minutes to hours by diving by 60\n",
    "print(f'{200/60} hours')"
   ]
  },
  {
   "cell_type": "markdown",
   "id": "526f2caf-9708-4094-9361-e9c5ca280990",
   "metadata": {},
   "source": [
    "## Author\n",
    "SALAH"
   ]
  }
 ],
 "metadata": {
  "kernelspec": {
   "display_name": "Python 3 (ipykernel)",
   "language": "python",
   "name": "python3"
  },
  "language_info": {
   "codemirror_mode": {
    "name": "ipython",
    "version": 3
   },
   "file_extension": ".py",
   "mimetype": "text/x-python",
   "name": "python",
   "nbconvert_exporter": "python",
   "pygments_lexer": "ipython3",
   "version": "3.12.4"
  }
 },
 "nbformat": 4,
 "nbformat_minor": 5
}
